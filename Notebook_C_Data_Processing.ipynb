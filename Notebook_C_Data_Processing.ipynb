{
 "cells": [
  {
   "cell_type": "code",
   "execution_count": 0,
   "metadata": {
    "application/vnd.databricks.v1+cell": {
     "cellMetadata": {
      "byteLimit": 2048000,
      "rowLimit": 10000
     },
     "inputWidgets": {},
     "nuid": "8983ce7a-627b-4086-ba92-81da9d5144f1",
     "showTitle": false,
     "tableResultSettingsMap": {},
     "title": ""
    }
   },
   "outputs": [
    {
     "output_type": "stream",
     "name": "stdout",
     "output_type": "stream",
     "text": [
      "\n==================================================\n+-----------+------+------------------------------------+--------+----------+\n|category   |price |product_id                          |quantity|timestamp |\n+-----------+------+------------------------------------+--------+----------+\n|Apartments |773.59|229e70c7-1708-4d32-b011-e7b0c16b24f9|1       |2000-11-30|\n|Apartments |906.87|ef950d93-9f03-48dd-8517-34cb40b733d0|14      |2015-08-17|\n|Clothing   |655.38|b4a18581-949a-415a-a056-a43d99362b20|7       |2011-11-19|\n|Apartments |371.81|faa33b35-15f8-4098-8049-322c8e211e5a|16      |2005-01-26|\n|Clothing   |120.38|1fcbc08c-dae8-4a17-a5bb-7ea605c8f834|13      |2021-03-11|\n|Apartments |145.02|fd3e8c38-f501-4cec-8f95-7c517be64396|2       |2023-01-03|\n|Groceries  |285.91|10aa9093-50d4-4ded-a077-c8c6f35caf2e|2       |2022-12-24|\n|Clothing   |252.38|7fb81257-6b16-4b78-8f93-56d20d225136|15      |2013-11-26|\n|Apartments |824.23|75015ba0-4332-4ebd-b26e-3c3e0df15758|19      |2022-08-10|\n|Groceries  |776.73|d64fe146-e4ad-46ca-bc16-cfde8fbc7bcc|2       |2001-04-28|\n|Electronics|647.29|00e3d022-0dfc-4739-b8ce-5b2fae2b4599|15      |1994-11-09|\n|Apartments |624.57|9becdb9a-21d7-447c-b86b-9470d20bb238|15      |2004-05-07|\n|Apartments |323.07|95aaf819-19cb-443a-8ea5-ebdaf4a3fd80|6       |2017-11-18|\n|Clothing   |985.5 |55bfd397-e0a4-474a-b513-7e88caf1f406|1       |2024-10-27|\n|Clothing   |442.66|a9eacdca-2e54-4039-8aaa-5b9214c26fff|6       |2002-09-28|\n|Electronics|89.64 |12a6e8ed-ed67-4ec9-aa9e-479b3fb2b31d|12      |2018-06-02|\n|Groceries  |394.75|482634bb-a668-4195-a2a6-43497b043c49|10      |1999-09-04|\n|Electronics|829.36|13ab1587-f36c-4d0f-abbf-1b40265ea403|7       |2020-08-22|\n|Clothing   |707.17|e34b9c22-c13b-4a3d-8c82-249005a8f201|16      |2009-10-10|\n|Groceries  |980.89|cf86f843-f674-4961-82b2-9b317f38deb1|11      |2001-12-28|\n|Groceries  |457.72|aad120ff-cf60-4b9d-a2ae-831ff1081796|5       |2017-09-20|\n|Apartments |236.62|a76d69d5-9757-4158-afef-903262c31078|18      |2011-05-31|\n|Electronics|862.99|8bf74afe-e530-42bf-915e-3cef56fccf2a|1       |1995-06-04|\n|Groceries  |172.14|43d2f05c-2a56-4036-9095-9a7c99b081fe|6       |2011-12-21|\n|Clothing   |618.64|0c6a7e5a-bb4f-4f2a-951e-deac7713b990|18      |1995-09-03|\n+-----------+------+------------------------------------+--------+----------+\n\n==================================================\n\n"
     ]
    },
    {
     "output_type": "display_data",
     "data": {
      "text/html": [
       "<style scoped>\n",
       "  .ansiout {\n",
       "    display: block;\n",
       "    unicode-bidi: embed;\n",
       "    white-space: pre-wrap;\n",
       "    word-wrap: break-word;\n",
       "    word-break: break-all;\n",
       "    font-family: \"Menlo\", \"Monaco\", \"Consolas\", \"Ubuntu Mono\", \"Source Code Pro\", monospace;\n",
       "    font-size: 13px;\n",
       "    color: #555;\n",
       "    margin-left: 4px;\n",
       "    line-height: 19px;\n",
       "  }\n",
       "</style>"
      ]
     },
     "metadata": {
      "application/vnd.databricks.v1+output": {
       "arguments": {},
       "data": "",
       "errorSummary": "Cancelled",
       "errorTraceType": "html",
       "metadata": {},
       "type": "ipynbError"
      }
     },
     "output_type": "display_data"
    }
   ],
   "source": [
    "from pyspark.sql import SparkSession\n",
    "from IPython.display import clear_output\n",
    "import time\n",
    "\n",
    "spark = SparkSession.builder.appName(\"SalesDataDisplay\").getOrCreate()\n",
    "\n",
    "# json_file_path = \"dbfs:/FileStore/sales_data/sample_sales.json\"\n",
    "# delta_table_path = \"dbfs:/FileStore/sales_data/delta_table\"\n",
    "delta_table_path = \"file:/tmp/delta_table\"\n",
    "\n",
    "# df = spark.read.json(json_file_path)\n",
    "# df.write.format(\"delta\").mode(\"overwrite\").save(delta_table_path)\n",
    "\n",
    "while True:\n",
    "    df = spark.read.format(\"delta\").load(delta_table_path)\n",
    "\n",
    "    clear_output(wait=True)\n",
    "    print(\"\\n\" + \"=\"*50)\n",
    "    df.show(n=25, truncate=False)\n",
    "    print(\"=\"*50 + \"\\n\")\n",
    "    \n",
    "    time.sleep(10)\n",
    "\n"
   ]
  }
 ],
 "metadata": {
  "application/vnd.databricks.v1+notebook": {
   "dashboards": [],
   "environmentMetadata": null,
   "language": "python",
   "notebookMetadata": {
    "pythonIndentUnit": 4
   },
   "notebookName": "Notebook_C_Data_Processing",
   "widgets": {}
  }
 },
 "nbformat": 4,
 "nbformat_minor": 0
}
