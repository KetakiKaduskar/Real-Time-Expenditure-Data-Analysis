{
 "cells": [
  {
   "cell_type": "code",
   "execution_count": 0,
   "metadata": {
    "application/vnd.databricks.v1+cell": {
     "cellMetadata": {
      "byteLimit": 2048000,
      "rowLimit": 10000
     },
     "inputWidgets": {},
     "nuid": "af1d3ac7-3542-427d-afcb-7be457dcef0f",
     "showTitle": false,
     "tableResultSettingsMap": {},
     "title": ""
    }
   },
   "outputs": [
    {
     "output_type": "stream",
     "name": "stdout",
     "output_type": "stream",
     "text": [
      "\u001B[43mNote: you may need to restart the kernel using dbutils.library.restartPython() to use updated packages.\u001B[0m\nRequirement already satisfied: Faker in /local_disk0/.ephemeral_nfs/envs/pythonEnv-b7e6d785-bcb9-4196-aa7c-2ee107bcc739/lib/python3.10/site-packages (30.8.1)\nRequirement already satisfied: python-dateutil>=2.4 in /databricks/python3/lib/python3.10/site-packages (from Faker) (2.8.2)\nRequirement already satisfied: typing-extensions in /databricks/python3/lib/python3.10/site-packages (from Faker) (4.3.0)\nRequirement already satisfied: six>=1.5 in /usr/lib/python3/dist-packages (from python-dateutil>=2.4->Faker) (1.16.0)\n\u001B[43mNote: you may need to restart the kernel using dbutils.library.restartPython() to use updated packages.\u001B[0m\n"
     ]
    }
   ],
   "source": [
    "%pip install Faker\n"
   ]
  },
  {
   "cell_type": "code",
   "execution_count": 0,
   "metadata": {
    "application/vnd.databricks.v1+cell": {
     "cellMetadata": {
      "byteLimit": 2048000,
      "rowLimit": 10000
     },
     "inputWidgets": {},
     "nuid": "605fc1a0-65f2-45c6-be26-76f3db66505b",
     "showTitle": false,
     "tableResultSettingsMap": {},
     "title": ""
    }
   },
   "outputs": [
    {
     "output_type": "stream",
     "name": "stdout",
     "output_type": "stream",
     "text": [
      "[{'timestamp': '2020-10-15', 'product_id': '48468f0e-1d97-4805-8d47-ffdbc010774b', 'category': 'Clothing', 'price': 736.65, 'quantity': 19}, {'timestamp': '2010-01-29', 'product_id': 'ce125737-3d82-46b9-b329-855ba1371c5d', 'category': 'Groceries', 'price': 204.22, 'quantity': 13}, {'timestamp': '2006-02-06', 'product_id': '8a91d499-891d-4a57-b5f2-64f8b8a6ab5c', 'category': 'Electronics', 'price': 707.36, 'quantity': 1}, {'timestamp': '2022-03-16', 'product_id': '07d94170-66d2-4669-8196-389da65394e2', 'category': 'Clothing', 'price': 631.81, 'quantity': 18}, {'timestamp': '1999-10-22', 'product_id': '73aaaa52-8a9b-47b2-934d-153d062f89e5', 'category': 'Groceries', 'price': 811.44, 'quantity': 18}, {'timestamp': '2005-09-12', 'product_id': '3a915b0c-e65e-415a-a49d-608f3acff015', 'category': 'Apartments', 'price': 49.93, 'quantity': 12}, {'timestamp': '2019-05-18', 'product_id': 'acaf0324-569e-4547-8685-5d3a1d1fa06c', 'category': 'Electronics', 'price': 698.05, 'quantity': 5}, {'timestamp': '2015-05-24', 'product_id': '80965ede-9a9d-456a-a1fc-4e3c73d4d279', 'category': 'Electronics', 'price': 297.74, 'quantity': 14}, {'timestamp': '1995-06-15', 'product_id': '181af3fe-c901-4ec0-a7ee-80fa55abcc46', 'category': 'Clothing', 'price': 201.13, 'quantity': 4}, {'timestamp': '2006-07-03', 'product_id': '2f2f2538-f771-4755-bc37-d59d81c38a6a', 'category': 'Electronics', 'price': 233.26, 'quantity': 8}, {'timestamp': '2018-09-22', 'product_id': 'f69cfd97-d0ba-4178-b0bb-383d314ac61d', 'category': 'Electronics', 'price': 244.03, 'quantity': 17}, {'timestamp': '1996-05-14', 'product_id': 'ffce33e5-01b4-4245-978d-c652a36a209b', 'category': 'Electronics', 'price': 45.17, 'quantity': 20}, {'timestamp': '2021-08-27', 'product_id': 'd3688880-1a3a-43c1-885f-df77feada752', 'category': 'Clothing', 'price': 370.46, 'quantity': 2}, {'timestamp': '2004-05-14', 'product_id': 'bd0ebc1a-1ed3-47ac-b16b-053b6c7dcd01', 'category': 'Groceries', 'price': 988.36, 'quantity': 15}, {'timestamp': '2001-12-02', 'product_id': '1f203094-36cb-45ee-8388-5b97762fa21a', 'category': 'Apartments', 'price': 572.07, 'quantity': 20}, {'timestamp': '2011-08-18', 'product_id': 'cdeda69c-0491-49b7-928c-65b67264c4f3', 'category': 'Apartments', 'price': 260.02, 'quantity': 16}, {'timestamp': '2011-11-30', 'product_id': 'e0dfa508-7d1f-40cd-9430-4ddd1a64d1b7', 'category': 'Groceries', 'price': 851.79, 'quantity': 11}, {'timestamp': '2002-02-23', 'product_id': '40d310b7-3259-45d5-89b1-a4513e9881d7', 'category': 'Apartments', 'price': 127.14, 'quantity': 14}, {'timestamp': '2003-08-30', 'product_id': '8147bc16-01a2-4004-a591-fc361dd2268a', 'category': 'Clothing', 'price': 320.94, 'quantity': 7}, {'timestamp': '2009-08-27', 'product_id': '39e436ef-fb72-48fa-addd-c0dfb32e082f', 'category': 'Electronics', 'price': 70.94, 'quantity': 8}, {'timestamp': '2002-05-22', 'product_id': 'b66aa97d-9448-4100-a9a5-83492f53dcb4', 'category': 'Clothing', 'price': 193.81, 'quantity': 18}, {'timestamp': '1996-05-06', 'product_id': '7101f4f3-ca85-40c7-8620-036cd5807c79', 'category': 'Electronics', 'price': 363.59, 'quantity': 16}, {'timestamp': '2008-01-10', 'product_id': '1a0a4f6d-20cc-4328-a025-87aaab78aba3', 'category': 'Groceries', 'price': 701.49, 'quantity': 5}, {'timestamp': '2010-06-30', 'product_id': '4ea2db10-b7cc-4b35-94ae-ac7d3c699aca', 'category': 'Groceries', 'price': 130.54, 'quantity': 11}, {'timestamp': '1999-10-25', 'product_id': 'fb568dea-8447-4ae5-b483-9f8fbd9109f2', 'category': 'Apartments', 'price': 200.58, 'quantity': 20}]\n[{'timestamp': '2012-09-09', 'product_id': 'd8ae1218-5ac0-4e23-98b5-1f02dd8b6a4b', 'category': 'Apartments', 'price': 419.95, 'quantity': 17}, {'timestamp': '1995-06-13', 'product_id': 'd3fde324-56c1-4b17-8ba9-976c2b305498', 'category': 'Apartments', 'price': 680.26, 'quantity': 4}, {'timestamp': '2024-01-31', 'product_id': '7c64ffcc-a290-44a4-b376-e31ab126b18c', 'category': 'Electronics', 'price': 130.56, 'quantity': 4}, {'timestamp': '2022-03-21', 'product_id': 'f4707b52-f638-4f87-a2fb-4dea256a14db', 'category': 'Apartments', 'price': 752.03, 'quantity': 20}, {'timestamp': '2003-09-23', 'product_id': 'b63a3fd4-02e9-4b43-8d49-1d6837d4b928', 'category': 'Electronics', 'price': 417.68, 'quantity': 11}, {'timestamp': '2002-12-13', 'product_id': 'f7010967-92ec-4b2b-81ec-e82a1517a324', 'category': 'Apartments', 'price': 258.05, 'quantity': 7}, {'timestamp': '2001-04-12', 'product_id': '15c5851e-a800-4fa5-8bff-5e2477ee8ffb', 'category': 'Clothing', 'price': 49.11, 'quantity': 14}, {'timestamp': '2003-01-14', 'product_id': '44af4840-9b3a-45c5-a08b-d1c7678a7290', 'category': 'Clothing', 'price': 391.62, 'quantity': 16}, {'timestamp': '1996-04-12', 'product_id': 'd2f9528a-7d0b-453b-87b2-4d141ef9fa34', 'category': 'Apartments', 'price': 963.88, 'quantity': 19}, {'timestamp': '1995-12-15', 'product_id': 'fdff0ac3-4ecf-4694-9467-6710620b5bf6', 'category': 'Clothing', 'price': 504.3, 'quantity': 4}, {'timestamp': '2000-02-14', 'product_id': '0aff740d-6fb5-43c1-83d1-f3bc82db5191', 'category': 'Groceries', 'price': 560.74, 'quantity': 13}, {'timestamp': '2011-09-18', 'product_id': '28154986-485c-4381-8121-1a39e0679807', 'category': 'Groceries', 'price': 553.73, 'quantity': 17}, {'timestamp': '2023-07-14', 'product_id': '97187adf-e8a2-44fc-8ba3-b87f2370be8f', 'category': 'Electronics', 'price': 269.56, 'quantity': 3}, {'timestamp': '2006-03-01', 'product_id': 'a477a215-fd90-45f4-a1c0-5ca75a8e26fe', 'category': 'Clothing', 'price': 423.58, 'quantity': 9}, {'timestamp': '2018-11-24', 'product_id': 'f3a935bf-337d-4b23-8d39-d0312d55a30f', 'category': 'Groceries', 'price': 763.65, 'quantity': 4}, {'timestamp': '1996-06-13', 'product_id': '20d78b4d-0bb9-4579-913c-9707a10e5e4e', 'category': 'Clothing', 'price': 668.68, 'quantity': 19}, {'timestamp': '2021-06-20', 'product_id': 'c971e154-a722-40dd-a31c-1dcecff6e8bc', 'category': 'Electronics', 'price': 430.62, 'quantity': 4}, {'timestamp': '2008-02-18', 'product_id': '9da03c74-9344-4a52-84e6-73f339202b10', 'category': 'Electronics', 'price': 835.33, 'quantity': 17}, {'timestamp': '2022-11-24', 'product_id': '2fb17653-f238-4a48-9495-78be7030b469', 'category': 'Apartments', 'price': 227.24, 'quantity': 7}, {'timestamp': '1995-12-17', 'product_id': 'ea843815-ff82-4477-87bb-aa91c5a36122', 'category': 'Apartments', 'price': 595.53, 'quantity': 5}, {'timestamp': '2018-07-22', 'product_id': 'a0310f6e-90e7-4d39-89fd-15a6f4932e15', 'category': 'Groceries', 'price': 523.0, 'quantity': 4}, {'timestamp': '1999-08-25', 'product_id': 'fb54fbe3-481f-4a2b-9126-1bf22e79642b', 'category': 'Electronics', 'price': 538.13, 'quantity': 20}, {'timestamp': '1999-09-08', 'product_id': '0e85eb41-2c37-4489-bb90-acd9b02fda07', 'category': 'Clothing', 'price': 90.0, 'quantity': 15}, {'timestamp': '1995-07-23', 'product_id': '6bc4a84e-5a83-41cd-898e-d53f8f8dfa00', 'category': 'Apartments', 'price': 913.18, 'quantity': 14}, {'timestamp': '2005-02-16', 'product_id': 'e709ee85-5909-4b20-83dd-bd8a6a0b75a2', 'category': 'Electronics', 'price': 112.68, 'quantity': 1}]\n"
     ]
    },
    {
     "output_type": "display_data",
     "data": {
      "text/html": [
       "<style scoped>\n",
       "  .ansiout {\n",
       "    display: block;\n",
       "    unicode-bidi: embed;\n",
       "    white-space: pre-wrap;\n",
       "    word-wrap: break-word;\n",
       "    word-break: break-all;\n",
       "    font-family: \"Menlo\", \"Monaco\", \"Consolas\", \"Ubuntu Mono\", \"Source Code Pro\", monospace;\n",
       "    font-size: 13px;\n",
       "    color: #555;\n",
       "    margin-left: 4px;\n",
       "    line-height: 19px;\n",
       "  }\n",
       "</style>"
      ]
     },
     "metadata": {
      "application/vnd.databricks.v1+output": {
       "arguments": {},
       "data": "",
       "errorSummary": "Cancelled",
       "errorTraceType": "html",
       "metadata": {},
       "type": "ipynbError"
      }
     },
     "output_type": "display_data"
    }
   ],
   "source": [
    "from faker import Faker\n",
    "import json\n",
    "import time\n",
    "import os\n",
    "from datetime import datetime\n",
    "\n",
    "fake = Faker()\n",
    "\n",
    "data = []\n",
    "while True:\n",
    "    \n",
    "    # for this in range(25):\n",
    "    #     entry = {\n",
    "    #         'timestamp': fake.date_between(start_date=\"-30y\", end_date=\"now\").isoformat(),\n",
    "    #         'product_id': fake.uuid4(),\n",
    "    #         'category': fake.random_element(elements=('Electronics', 'Clothing', 'Groceries', 'Apartments')),\n",
    "    #         'price': round(fake.random_number(digits=5) * 0.01, 2),\n",
    "    #         'quantity': fake.random_int(min=1, max=20)\n",
    "    #     }\n",
    "    #     print(len(data))\n",
    "    #     data.append(entry)\n",
    "\n",
    "    entry = {\n",
    "        'timestamp': fake.date_between(start_date=\"-30y\", end_date=\"now\").isoformat(),\n",
    "        'product_id': fake.uuid4(),\n",
    "        'category': fake.random_element(elements=('Electronics', 'Clothing', 'Groceries', 'Apartments')),\n",
    "        'price': round(fake.random_number(digits=5) * 0.01, 2),\n",
    "        'quantity': fake.random_int(min=1, max=20)\n",
    "    }\n",
    "    \n",
    "    data.append(entry)\n",
    "\n",
    "    if len(data) >= 25:\n",
    "        print(data)\n",
    "        with open(\"/tmp/sample_sales.json\", \"w\") as f:\n",
    "            json.dump(data, f)\n",
    "\n",
    "        dbutils.fs.cp(\"file:/tmp/sample_sales.json\", \"dbfs:/FileStore/sales_data/sample_sales.json\")\n",
    "\n",
    "        time.sleep(10)\n",
    "\n",
    "        data = []\n"
   ]
  }
 ],
 "metadata": {
  "application/vnd.databricks.v1+notebook": {
   "dashboards": [],
   "environmentMetadata": null,
   "language": "python",
   "notebookMetadata": {
    "pythonIndentUnit": 4
   },
   "notebookName": "Notebook_A_Data_Generation",
   "widgets": {}
  }
 },
 "nbformat": 4,
 "nbformat_minor": 0
}
